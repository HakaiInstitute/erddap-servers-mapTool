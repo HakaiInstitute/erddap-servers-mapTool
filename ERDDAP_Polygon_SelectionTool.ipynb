{
 "cells": [
  {
   "cell_type": "code",
   "execution_count": 1,
   "metadata": {},
   "outputs": [],
   "source": [
    "import pandas as pd\n",
    "import numpy as np\n",
    "import geopandas as gpd\n",
    "\n",
    "import folium \n",
    "import folium.plugins as plugins\n",
    "import folium.folium as Map\n",
    "\n",
    "from ipyleaflet import Map, basemaps, basemap_to_tiles,DrawControl,ScaleControl,MarkerCluster,Marker,Polyline,Heatmap,LayersControl,AntPath\n",
    "from shapely.geometry import Polygon\n"
   ]
  },
  {
   "cell_type": "markdown",
   "metadata": {},
   "source": [
    "# Load Metadata From the different ERDDAP Servers"
   ]
  },
  {
   "cell_type": "code",
   "execution_count": 85,
   "metadata": {},
   "outputs": [
    {
     "name": "stdout",
     "output_type": "stream",
     "text": [
      "84296 distinct location is associated with data\n"
     ]
    }
   ],
   "source": [
    "# Load ERDDAP Server tables made by \"Create_Cache_Metadata-SelectionTool\" and convert to a geodataframe\n",
    "# CSV lists available as of now (we can easily make this more flexible)\n",
    "file_list = ['Server_List_catalogue_hakai_org_erddap.csv',\n",
    "            'Server_List_dap_onc_uvic_ca_erddap.csv',\n",
    "            'Server_List_data_cioospacific_ca_erddap.csv']\n",
    "\n",
    "# Combine all the tables into one DataFrame\n",
    "df = pd.DataFrame(columns=['Dataset ID']) \n",
    "for file in file_list:\n",
    "    df_temp = pd.read_csv(file)\n",
    "    df = df.append(df_temp)\n",
    "\n",
    "# Convert to geopandas\n",
    "gdf = gpd.GeoDataFrame(\n",
    "    df, geometry=gpd.points_from_xy(df['longitude degrees_east'], df['latitude degrees_north']))\n",
    "\n",
    "print(str(len(gdf))+' distinct location is associated with data')"
   ]
  },
  {
   "cell_type": "markdown",
   "metadata": {},
   "source": [
    "# Select Data Spatially through all the servers and datasets"
   ]
  },
  {
   "cell_type": "code",
   "execution_count": 79,
   "metadata": {},
   "outputs": [
    {
     "name": "stdout",
     "output_type": "stream",
     "text": [
      "Draw a polygon on the map!\n"
     ]
    },
    {
     "data": {
      "application/vnd.jupyter.widget-view+json": {
       "model_id": "3a33a939a2fc4f7baf28f8b9ecee8aff",
       "version_major": 2,
       "version_minor": 0
      },
      "text/plain": [
       "Map(center=[45, -127], controls=(ZoomControl(options=['position', 'zoom_in_text', 'zoom_in_title', 'zoom_out_t…"
      ]
     },
     "metadata": {},
     "output_type": "display_data"
    }
   ],
   "source": [
    "# Create a map with ipyleaflet for the user to draw a polygon on it\n",
    "center_map = (45,-127) #Somehwere around the center of BC Pacific Coast\n",
    "\n",
    "# Start by defining the map\n",
    "m = Map(basemap=basemaps.Esri.WorldTopoMap,\n",
    "        center=(center_lat, center_long),\n",
    "        zoom=3)\n",
    "\n",
    "# Add controls for the polygon\n",
    "draw_control = DrawControl()\n",
    "\n",
    "# Add Heatmap of all the data available\n",
    "heatmap = Heatmap(name='Data Location HeatMap',\n",
    "                  locations=gdf[['latitude degrees_north','longitude degrees_east']].values.tolist(),\n",
    "                  radius=5, blur=2,min_opacity=0.2,max=1)\n",
    "\n",
    "# Add control and layers to the map\n",
    "m.add_control(draw_control)\n",
    "m.add_control(ScaleControl(position='topright')) #Scale on the top right corner\n",
    "m.add_layer(heatmap)\n",
    "control = LayersControl(position='bottomright')\n",
    "m.add_control(control)\n",
    "\n",
    "# Show Map\n",
    "print('Draw a polygon on the map!')\n",
    "m"
   ]
  },
  {
   "cell_type": "code",
   "execution_count": 81,
   "metadata": {},
   "outputs": [
    {
     "name": "stdout",
     "output_type": "stream",
     "text": [
      "157 datasets are within this polygon!\n"
     ]
    }
   ],
   "source": [
    "# Find datasets in this polygon\n",
    "# Retrieve the polygon from the map\n",
    "polygone_matrix = np.asarray(draw_control.last_draw['geometry']['coordinates'])\n",
    "polygon_region = gpd.GeoSeries({'selected':Polygon(polygone_matrix[0,:,:])})\n",
    "\n",
    "# Filter only the datasets within that polygon and plot them\n",
    "gdf = gdf.assign(**{key: gdf.within(geom) for key, geom in polygon_region.items()})\n",
    "gdf_selected = gdf[gdf['selected']]\n",
    "print(str(len(gdf[gdf['selected']]))+' datasets are within this polygon!')\n"
   ]
  },
  {
   "cell_type": "code",
   "execution_count": 82,
   "metadata": {},
   "outputs": [],
   "source": [
    "# Add to map above selected data as Marker Cluster or AntPath(>3000 points otherwise ipyleaflet is slow)\n",
    "if len(gdf_selected)>3000:\n",
    "    lines = AntPath(name='Selected Data',locations=\n",
    "                     gdf_selected[['latitude degrees_north','longitude degrees_east']].values.tolist(),\n",
    "                     dash_array=[1, 10],delay=1000,color='#7590ba',pulse_color='#3f6fba',use='polygon')\n",
    "    m.add_layer(lines)\n",
    "else:\n",
    "    # Add Marker Cluster of the selected data\n",
    "    markers = [Marker(location=loc) for loc in gdf_selected[['latitude degrees_north','longitude degrees_east']].values.tolist()]\n",
    "\n",
    "    marker_cluster = MarkerCluster(name='Selected Data',\n",
    "                                   markers = markers)\n",
    "    m += marker_cluster"
   ]
  },
  {
   "cell_type": "markdown",
   "metadata": {},
   "source": [
    "# Get the range of data to be querry through the different ERDDAP servers and dataset ID \n",
    "<ul>\n",
    "<li>Latitude range (min/max)</li>\n",
    "<li>Longitude range (min/max)</li>\n",
    "<li>Depth (One day...)</li>\n",
    "<li>Time (One day...)</li>\n",
    "</ul>"
   ]
  },
  {
   "cell_type": "code",
   "execution_count": 83,
   "metadata": {},
   "outputs": [
    {
     "data": {
      "text/html": [
       "<div>\n",
       "<style scoped>\n",
       "    .dataframe tbody tr th:only-of-type {\n",
       "        vertical-align: middle;\n",
       "    }\n",
       "\n",
       "    .dataframe tbody tr th {\n",
       "        vertical-align: top;\n",
       "    }\n",
       "\n",
       "    .dataframe thead tr th {\n",
       "        text-align: left;\n",
       "    }\n",
       "\n",
       "    .dataframe thead tr:last-of-type th {\n",
       "        text-align: right;\n",
       "    }\n",
       "</style>\n",
       "<table border=\"1\" class=\"dataframe\">\n",
       "  <thead>\n",
       "    <tr>\n",
       "      <th></th>\n",
       "      <th></th>\n",
       "      <th colspan=\"2\" halign=\"left\">Unnamed: 0</th>\n",
       "      <th colspan=\"2\" halign=\"left\">latitude degrees_north</th>\n",
       "      <th colspan=\"2\" halign=\"left\">longitude degrees_east</th>\n",
       "      <th colspan=\"2\" halign=\"left\">sea_water_practical_salinity</th>\n",
       "      <th colspan=\"2\" halign=\"left\">sea_water_temperature</th>\n",
       "      <th colspan=\"2\" halign=\"left\">cdm_data_type</th>\n",
       "      <th colspan=\"2\" halign=\"left\">selected</th>\n",
       "    </tr>\n",
       "    <tr>\n",
       "      <th></th>\n",
       "      <th></th>\n",
       "      <th>min</th>\n",
       "      <th>max</th>\n",
       "      <th>min</th>\n",
       "      <th>max</th>\n",
       "      <th>min</th>\n",
       "      <th>max</th>\n",
       "      <th>min</th>\n",
       "      <th>max</th>\n",
       "      <th>min</th>\n",
       "      <th>max</th>\n",
       "      <th>min</th>\n",
       "      <th>max</th>\n",
       "      <th>min</th>\n",
       "      <th>max</th>\n",
       "    </tr>\n",
       "    <tr>\n",
       "      <th>server</th>\n",
       "      <th>Dataset ID</th>\n",
       "      <th></th>\n",
       "      <th></th>\n",
       "      <th></th>\n",
       "      <th></th>\n",
       "      <th></th>\n",
       "      <th></th>\n",
       "      <th></th>\n",
       "      <th></th>\n",
       "      <th></th>\n",
       "      <th></th>\n",
       "      <th></th>\n",
       "      <th></th>\n",
       "      <th></th>\n",
       "      <th></th>\n",
       "    </tr>\n",
       "  </thead>\n",
       "  <tbody>\n",
       "    <tr>\n",
       "      <th rowspan=\"2\" valign=\"top\">https://data.cioospacific.ca/erddap</th>\n",
       "      <th>IOS_BOT_Profiles</th>\n",
       "      <td>151.0</td>\n",
       "      <td>260.0</td>\n",
       "      <td>32.4855</td>\n",
       "      <td>40.99633</td>\n",
       "      <td>-165.0600</td>\n",
       "      <td>-155.0483</td>\n",
       "      <td>PSALST01,PSALBST01,PSALST02</td>\n",
       "      <td>PSALST01,PSALBST01,PSALST02</td>\n",
       "      <td>TEMPRTN1,TEMPST01,TEMPS901,TEMPS602,TEMPS601,T...</td>\n",
       "      <td>TEMPRTN1,TEMPST01,TEMPS901,TEMPS602,TEMPS601,T...</td>\n",
       "      <td>Profile</td>\n",
       "      <td>Profile</td>\n",
       "      <td>True</td>\n",
       "      <td>True</td>\n",
       "    </tr>\n",
       "    <tr>\n",
       "      <th>IOS_CTD_Profiles</th>\n",
       "      <td>183.0</td>\n",
       "      <td>683.0</td>\n",
       "      <td>31.0150</td>\n",
       "      <td>40.99850</td>\n",
       "      <td>-167.7517</td>\n",
       "      <td>-155.0000</td>\n",
       "      <td>PSALST01,PSALST02</td>\n",
       "      <td>PSALST01,PSALST02</td>\n",
       "      <td>TEMPST01,TEMPS602,TEMPS601,TEMPS902</td>\n",
       "      <td>TEMPST01,TEMPS602,TEMPS601,TEMPS902</td>\n",
       "      <td>Profile</td>\n",
       "      <td>Profile</td>\n",
       "      <td>True</td>\n",
       "      <td>True</td>\n",
       "    </tr>\n",
       "  </tbody>\n",
       "</table>\n",
       "</div>"
      ],
      "text/plain": [
       "                                                     Unnamed: 0         \\\n",
       "                                                            min    max   \n",
       "server                              Dataset ID                           \n",
       "https://data.cioospacific.ca/erddap IOS_BOT_Profiles      151.0  260.0   \n",
       "                                    IOS_CTD_Profiles      183.0  683.0   \n",
       "\n",
       "                                                     latitude degrees_north  \\\n",
       "                                                                        min   \n",
       "server                              Dataset ID                                \n",
       "https://data.cioospacific.ca/erddap IOS_BOT_Profiles                32.4855   \n",
       "                                    IOS_CTD_Profiles                31.0150   \n",
       "\n",
       "                                                                \\\n",
       "                                                           max   \n",
       "server                              Dataset ID                   \n",
       "https://data.cioospacific.ca/erddap IOS_BOT_Profiles  40.99633   \n",
       "                                    IOS_CTD_Profiles  40.99850   \n",
       "\n",
       "                                                     longitude degrees_east  \\\n",
       "                                                                        min   \n",
       "server                              Dataset ID                                \n",
       "https://data.cioospacific.ca/erddap IOS_BOT_Profiles              -165.0600   \n",
       "                                    IOS_CTD_Profiles              -167.7517   \n",
       "\n",
       "                                                                \\\n",
       "                                                           max   \n",
       "server                              Dataset ID                   \n",
       "https://data.cioospacific.ca/erddap IOS_BOT_Profiles -155.0483   \n",
       "                                    IOS_CTD_Profiles -155.0000   \n",
       "\n",
       "                                                     sea_water_practical_salinity  \\\n",
       "                                                                              min   \n",
       "server                              Dataset ID                                      \n",
       "https://data.cioospacific.ca/erddap IOS_BOT_Profiles  PSALST01,PSALBST01,PSALST02   \n",
       "                                    IOS_CTD_Profiles            PSALST01,PSALST02   \n",
       "\n",
       "                                                                                   \\\n",
       "                                                                              max   \n",
       "server                              Dataset ID                                      \n",
       "https://data.cioospacific.ca/erddap IOS_BOT_Profiles  PSALST01,PSALBST01,PSALST02   \n",
       "                                    IOS_CTD_Profiles            PSALST01,PSALST02   \n",
       "\n",
       "                                                                                  sea_water_temperature  \\\n",
       "                                                                                                    min   \n",
       "server                              Dataset ID                                                            \n",
       "https://data.cioospacific.ca/erddap IOS_BOT_Profiles  TEMPRTN1,TEMPST01,TEMPS901,TEMPS602,TEMPS601,T...   \n",
       "                                    IOS_CTD_Profiles                TEMPST01,TEMPS602,TEMPS601,TEMPS902   \n",
       "\n",
       "                                                                                                         \\\n",
       "                                                                                                    max   \n",
       "server                              Dataset ID                                                            \n",
       "https://data.cioospacific.ca/erddap IOS_BOT_Profiles  TEMPRTN1,TEMPST01,TEMPS901,TEMPS602,TEMPS601,T...   \n",
       "                                    IOS_CTD_Profiles                TEMPST01,TEMPS602,TEMPS601,TEMPS902   \n",
       "\n",
       "                                                     cdm_data_type           \\\n",
       "                                                               min      max   \n",
       "server                              Dataset ID                                \n",
       "https://data.cioospacific.ca/erddap IOS_BOT_Profiles       Profile  Profile   \n",
       "                                    IOS_CTD_Profiles       Profile  Profile   \n",
       "\n",
       "                                                     selected        \n",
       "                                                          min   max  \n",
       "server                              Dataset ID                       \n",
       "https://data.cioospacific.ca/erddap IOS_BOT_Profiles     True  True  \n",
       "                                    IOS_CTD_Profiles     True  True  "
      ]
     },
     "execution_count": 83,
     "metadata": {},
     "output_type": "execute_result"
    }
   ],
   "source": [
    "# Regroup each dataset in its erddap dataset ID\n",
    "gdf_selected.set_index(['server','Dataset ID']).groupby(['server','Dataset ID']).agg(['min','max'])\n"
   ]
  },
  {
   "cell_type": "markdown",
   "metadata": {},
   "source": [
    "# Next steps\n",
    "<ul>\n",
    "<li>Querry every dataset ID for those range and variables</li>\n",
    "<li>Filter the resulting data with the polygon above </li>\n",
    "<li>Merge the different datasets together</li>\n",
    "</ul>"
   ]
  },
  {
   "cell_type": "markdown",
   "metadata": {},
   "source": [
    "# EXTRA"
   ]
  },
  {
   "cell_type": "markdown",
   "metadata": {},
   "source": [
    "## FastMarkerCluster Example with Folium"
   ]
  },
  {
   "cell_type": "code",
   "execution_count": null,
   "metadata": {},
   "outputs": [],
   "source": [
    "# Example of map with Folium which has a faster tool to handle LOTS of points. \n",
    "# This section is however not used in the steps below\n",
    "\n",
    "def get_folium_map(df,type_dict, lat_col='latitude', lon_col='longitude', zoom_start=5, \\\n",
    "                plot_points=False, pt_radius=15):\n",
    "\n",
    "    # Center map in the middle of points center in\n",
    "    middle_lat = df[lat_col].median()\n",
    "    middle_lon = df[lon_col].median()\n",
    "\n",
    "    # Create Base Map\n",
    "    curr_map = folium.Map(location=[middle_lat, middle_lon],\n",
    "                          zoom_start=zoom_start)\n",
    "    folium.TileLayer('Stamen Terrain').add_to(curr_map)\n",
    "\n",
    "    #Add Mini Map\n",
    "    minimap = plugins.MiniMap(zoom_level_offset=-4,width=300,height=300)\n",
    "    curr_map.add_child(minimap)\n",
    "    \n",
    "    #Define  FastMakerCluster sets (this is fast and can handle >10k points)\n",
    "    for type_file in sorted(df[type_dict].unique()):\n",
    "        df_reduced = df[df[type_dict]==type_file]\n",
    "        curr_map.add_child(plugins.FastMarkerCluster(df_reduced[[lat_col, lon_col]].values.tolist(),\n",
    "                                                     name = type_file.upper(),\n",
    "                                                     control=True,\n",
    "                                                     show=False))  \n",
    "    \n",
    "    folium.LayerControl(collapsed=False).add_to(curr_map)\n",
    "    return curr_map\n",
    "\n",
    "# Let's create an example of a webpage with Folium\n",
    "# Get Marker Cluster map with folium\n",
    "curr_map = apply_heat_map(df,'server','latitude degrees_north','longitude degrees_east')\n",
    "curr_map.save('Folium_CIOOS_dataset_available.html')"
   ]
  }
 ],
 "metadata": {
  "kernelspec": {
   "display_name": "Python 3",
   "language": "python",
   "name": "python3"
  },
  "language_info": {
   "codemirror_mode": {
    "name": "ipython",
    "version": 3
   },
   "file_extension": ".py",
   "mimetype": "text/x-python",
   "name": "python",
   "nbconvert_exporter": "python",
   "pygments_lexer": "ipython3",
   "version": "3.7.3"
  }
 },
 "nbformat": 4,
 "nbformat_minor": 4
}
